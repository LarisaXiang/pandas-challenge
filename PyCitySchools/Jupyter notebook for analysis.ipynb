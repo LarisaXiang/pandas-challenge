{
 "cells": [
  {
   "cell_type": "code",
   "execution_count": null,
   "id": "204d91c2",
   "metadata": {},
   "outputs": [],
   "source": [
    "# Dependencies and Setup\n",
    "import pandas as pd\n",
    "from pathlib import Path\n",
    "\n",
    "# File to load \n",
    "school_data_to_load = Path(\"../Resources/schools_complete.csv\")\n",
    "student_data_to_load = Path(\"../Resources/students_complete.csv\")\n",
    "\n",
    "# Read School and Student Data File and store into Pandas DataFrames\n",
    "\n",
    "school_data = pd.read_csv(school_data_to_load)\n",
    "student_data = pd.read_csv(student_data_to_load)\n",
    "\n",
    "# Combine the data into a single dataset.  \n",
    "school_student_data = pd.merge(student_data, school_data, how=\"outer\", on=\"school_name\")\n",
    "school_student_data.head()\n"
   ]
  },
  {
   "cell_type": "markdown",
   "id": "373aab78",
   "metadata": {},
   "source": []
  },
  {
   "cell_type": "markdown",
   "id": "2d6856e3",
   "metadata": {},
   "source": [
    "## Local Government Area (LGA) Summary\n"
   ]
  },
  {
   "cell_type": "markdown",
   "id": "140f55f3",
   "metadata": {},
   "source": [
    "**Total number of unique schools** "
   ]
  },
  {
   "cell_type": "code",
   "execution_count": null,
   "id": "58f06722",
   "metadata": {},
   "outputs": [],
   "source": [
    "total_schools = school_student_data[\"school_name\"].nunique()\n",
    "total_schools"
   ]
  },
  {
   "cell_type": "markdown",
   "id": "0c278330",
   "metadata": {},
   "source": [
    "**Total students**"
   ]
  },
  {
   "cell_type": "code",
   "execution_count": null,
   "id": "6cf589e3",
   "metadata": {},
   "outputs": [],
   "source": [
    "total_students = school_student_data[\"student_name\"].count()\n",
    "total_students = '{:,.0f}'.format(total_students)"
   ]
  },
  {
   "cell_type": "markdown",
   "id": "5a418814",
   "metadata": {},
   "source": [
    "**Total budget**"
   ]
  },
  {
   "cell_type": "code",
   "execution_count": null,
   "id": "cecf8cc8",
   "metadata": {},
   "outputs": [],
   "source": [
    "\n",
    "unique_df = school_student_data.drop_duplicates(subset=['school_name', 'budget'])\n",
    "total_budget = unique_df[\"budget\"].sum()\n",
    "total_budget = '{:,.2f}'.format(total_budget)"
   ]
  },
  {
   "cell_type": "markdown",
   "id": "941321f3",
   "metadata": {},
   "source": [
    "**Average maths score**"
   ]
  },
  {
   "cell_type": "code",
   "execution_count": null,
   "id": "30aef9ee",
   "metadata": {},
   "outputs": [],
   "source": [
    "average_maths_score = school_student_data[\"maths_score\"].sum()/school_student_data[\"student_name\"].count()\n",
    "average_maths_score = '{:,.6f}'.format(average_maths_score)"
   ]
  },
  {
   "cell_type": "markdown",
   "id": "b9e53966",
   "metadata": {},
   "source": [
    "**Average reading score**"
   ]
  },
  {
   "cell_type": "code",
   "execution_count": null,
   "id": "65f313b7",
   "metadata": {},
   "outputs": [],
   "source": [
    "average_reading_score = school_student_data[\"reading_score\"].sum()/school_student_data[\"student_name\"].count()\n",
    "average_reading_score = '{:,.6f}'.format(average_reading_score)"
   ]
  },
  {
   "cell_type": "markdown",
   "id": "7de21f7d",
   "metadata": {},
   "source": [
    "**% passing maths**"
   ]
  },
  {
   "cell_type": "code",
   "execution_count": null,
   "id": "fc27bff6",
   "metadata": {},
   "outputs": [],
   "source": [
    "total_students = school_student_data[\"student_name\"].count()\n",
    "passed_math_students = school_student_data[school_student_data['maths_score'] >= 50]['student_name'].count()\n",
    "percentage_passed_math = (passed_math_students / total_students) * 100\n",
    "percentage_passed_math = '{:,.6f}'.format(percentage_passed_math)"
   ]
  },
  {
   "cell_type": "markdown",
   "id": "ae658cf5",
   "metadata": {},
   "source": [
    "**% passing reading**"
   ]
  },
  {
   "cell_type": "code",
   "execution_count": null,
   "id": "3c619b1e",
   "metadata": {},
   "outputs": [],
   "source": [
    "total_students = school_student_data[\"student_name\"].count()\n",
    "passed_reading_students = school_student_data[school_student_data['reading_score'] >= 50]['student_name'].count()\n",
    "percentage_passed_reading = (passed_reading_students / total_students) * 100\n",
    "percentage_passed_reading = '{:,.6f}'.format(percentage_passed_reading)\n"
   ]
  },
  {
   "cell_type": "markdown",
   "id": "1aa0b265",
   "metadata": {},
   "source": [
    "**% overall passing**"
   ]
  },
  {
   "cell_type": "code",
   "execution_count": null,
   "id": "b31a58c2",
   "metadata": {},
   "outputs": [],
   "source": [
    "total_students = school_student_data[\"student_name\"].count()\n",
    "passed_both = school_student_data[(school_student_data['reading_score'] >= 50) & (school_student_data['maths_score'] >= 50) ]['student_name'].count()\n",
    "percentage_passed_both = (passed_both / total_students) * 100\n",
    "percentage_passed_both = '{:,.6f}'.format(percentage_passed_both)\n"
   ]
  },
  {
   "cell_type": "markdown",
   "id": "3946b119",
   "metadata": {},
   "source": [
    "**Area Summary**"
   ]
  },
  {
   "cell_type": "code",
   "execution_count": null,
   "id": "b13a8d22",
   "metadata": {},
   "outputs": [],
   "source": [
    "metrics_dict = {\n",
    "    'Total schools': total_schools,\n",
    "    'Total students': total_students,\n",
    "    'Total budget': total_budget,\n",
    "    'Average maths score': average_maths_score,\n",
    "    'Average reading score': average_reading_score,\n",
    "    '% Passing maths': percentage_passed_math,\n",
    "    '% Passing reading': percentage_passed_reading,\n",
    "    '% Overall passing': percentage_passed_both}\n",
    "\n",
    "area_summary= pd.DataFrame(metrics_dict, index=[0])\n",
    "area_summary"
   ]
  },
  {
   "cell_type": "markdown",
   "id": "dd2e6fb1",
   "metadata": {},
   "source": [
    "## School Summary\n"
   ]
  },
  {
   "cell_type": "markdown",
   "id": "7ef42c2f",
   "metadata": {},
   "source": []
  },
  {
   "cell_type": "code",
   "execution_count": null,
   "id": "240c673b",
   "metadata": {},
   "outputs": [],
   "source": [
    "grouped_school_data = school_student_data.groupby('school_name')\n",
    "school_summary = pd.DataFrame({\n",
    "    'School Type': grouped_school_data['type'].first(),\n",
    "    'Total Students': grouped_school_data['Student ID'].count(),\n",
    "    'Total School Budget': grouped_school_data['budget'].first().apply(lambda x: '{:,.2f}'.format(x)),\n",
    "    'Per Student Budget': grouped_school_data['budget'].first() / grouped_school_data['Student ID'].count(),\n",
    "    'Average Maths Score': grouped_school_data['maths_score'].mean(),\n",
    "    'Average Reading Score': grouped_school_data['reading_score'].mean(),\n",
    "    '% Passing Maths': grouped_school_data.apply(lambda x: (x['maths_score'] >= 50).mean() * 100),\n",
    "    '% Passing Reading': grouped_school_data.apply(lambda x: (x['reading_score'] >= 50).mean() * 100),\n",
    "    '% Overall passing': grouped_school_data.apply(lambda x: ((x['maths_score'] >= 50) & (x['reading_score'] >= 50)).mean() * 100),\n",
    "})\n",
    "school_summary"
   ]
  },
  {
   "cell_type": "markdown",
   "id": "a1636f53",
   "metadata": {},
   "source": [
    "## Highest-Performing Schools (by % Overall Passing)\n"
   ]
  },
  {
   "cell_type": "code",
   "execution_count": null,
   "id": "63fb5362",
   "metadata": {},
   "outputs": [],
   "source": [
    "top_schools = school_summary.sort_values (by='% Overall passing', ascending = False).head()\n",
    "top_schools"
   ]
  },
  {
   "cell_type": "markdown",
   "id": "9a9c266d",
   "metadata": {},
   "source": [
    "## Lowest-Performing Schools (by % Overall Passing)\n"
   ]
  },
  {
   "cell_type": "code",
   "execution_count": null,
   "id": "11f5ab2d",
   "metadata": {},
   "outputs": [],
   "source": [
    "bottom_schools = school_summary.sort_values (by='% Overall passing', ascending = True).head()\n",
    "bottom_schools"
   ]
  },
  {
   "cell_type": "markdown",
   "id": "402b8846",
   "metadata": {},
   "source": [
    "## Maths Scores by Year\n"
   ]
  },
  {
   "cell_type": "code",
   "execution_count": null,
   "id": "23cfc135",
   "metadata": {},
   "outputs": [],
   "source": [
    "average_math_score_by_school = school_student_data.groupby(['school_name', 'year'])['maths_score'].mean().unstack()\n",
    "average_math_score_by_school.columns = ['Year ' + str(col) for col in average_math_score_by_school.columns]\n",
    "average_math_score_by_school"
   ]
  },
  {
   "cell_type": "markdown",
   "id": "8a39be81",
   "metadata": {},
   "source": [
    "## Reading Scores by Year\n"
   ]
  },
  {
   "cell_type": "code",
   "execution_count": null,
   "id": "7066167e",
   "metadata": {},
   "outputs": [],
   "source": [
    "average_reading_score_by_school = school_student_data.groupby(['school_name', 'year'])['reading_score'].mean().unstack()\n",
    "average_reading_score_by_school.columns = ['Year ' + str(col) for col in average_reading_score_by_school.columns]\n",
    "average_reading_score_by_school"
   ]
  },
  {
   "cell_type": "markdown",
   "id": "dff6fd3f",
   "metadata": {},
   "source": [
    "## Scores by School Spending\n"
   ]
  },
  {
   "cell_type": "code",
   "execution_count": null,
   "id": "0145aa0f",
   "metadata": {},
   "outputs": [],
   "source": [
    "spending_bins = [0, 585, 615, 645, 675]\n",
    "spending_labels = ['<$585', '$585-615', '$615-645', '$645-675']\n",
    "school_summary['Spending Ranges (Per Student)'] = pd.cut(school_summary['Per Student Budget'], spending_bins, labels=spending_labels)\n",
    "spending_summary= school_summary.groupby('Spending Ranges (Per Student)')[['Average Maths Score', 'Average Reading Score', '% Passing Maths', '% Passing Reading', '% Overall passing']].mean()\n",
    "spending_summary_rounded = spending_summary.round(2)\n",
    "#print(spending_summary_rounded.to_string(index=True))\n",
    "display(spending_summary_rounded)\n"
   ]
  },
  {
   "cell_type": "markdown",
   "id": "3da6c090",
   "metadata": {},
   "source": [
    "## Scores by School Size\n"
   ]
  },
  {
   "cell_type": "code",
   "execution_count": null,
   "id": "22048f0d",
   "metadata": {},
   "outputs": [],
   "source": [
    "size_bins = [0, 1000, 2000, 5000]\n",
    "size_labels = ['Small <$1000', 'Medium $1000-2000', 'Large $2000-5000']\n",
    "school_summary['School Size'] = pd.cut(school_summary['Total Students'], size_bins, labels=size_labels)\n",
    "size_summary= school_summary.groupby('School Size')[['Average Maths Score', 'Average Reading Score', '% Passing Maths', '% Passing Reading', '% Overall passing']].mean()\n",
    "display(size_summary)"
   ]
  },
  {
   "cell_type": "markdown",
   "id": "b6c525b0",
   "metadata": {},
   "source": [
    "## Scores by School Type\n"
   ]
  },
  {
   "cell_type": "code",
   "execution_count": null,
   "id": "5c4260d3",
   "metadata": {},
   "outputs": [],
   "source": [
    "type_bins = [\"Government\", \"Independent\"]\n",
    "\n",
    "grouped_school_summary = school_summary.groupby('School Type')\n",
    "\n",
    "type_summary = grouped_school_summary[['Average Maths Score', 'Average Reading Score', '% Passing Maths', '% Passing Reading', '% Overall passing']].mean()\n",
    "\n",
    "display(type_summary)"
   ]
  }
 ],
 "metadata": {
  "kernelspec": {
   "display_name": "Python 3 (ipykernel)",
   "language": "python",
   "name": "python3"
  },
  "language_info": {
   "codemirror_mode": {
    "name": "ipython",
    "version": 3
   },
   "file_extension": ".py",
   "mimetype": "text/x-python",
   "name": "python",
   "nbconvert_exporter": "python",
   "pygments_lexer": "ipython3",
   "version": "3.10.12"
  }
 },
 "nbformat": 4,
 "nbformat_minor": 5
}
